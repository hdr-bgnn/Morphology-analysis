{
 "cells": [
  {
   "cell_type": "markdown",
   "id": "98a152cd",
   "metadata": {},
   "source": [
    "# Development for morphology trait extraction\n",
    "\n",
    "This notebook gives examples and a platform to develop and visualize extraction on morphological traits\n",
    "The functions used are define in a class \"Traits_class\" that you can find in the same folder (Morphology-analysis/Scripts/Traits_class.py).\n",
    "If you want modify the \"Traits_class.py\" reload the module by running the first cell to see the modification appear in the notebook.\n",
    "\n",
    "**Study case:**\n",
    "To illustrate the morphology workflow and functionality, we are using the 2 images :\n",
    "\n",
    "    + Morphology-analysis/Test_Data/INHS_FISH_000742_segmented.png\n",
    "    + Morphology-analysis/Test_Data/INHS_FISH_18609_segmented.png\n",
    "    "
   ]
  },
  {
   "cell_type": "code",
   "execution_count": 35,
   "id": "602dc370",
   "metadata": {},
   "outputs": [
    {
     "data": {
      "text/plain": [
       "<module 'Traits_class' from '/users/PAS2136/thibaulttabarin/Morphology-analysis/Scripts/Traits_class.py'>"
      ]
     },
     "execution_count": 35,
     "metadata": {},
     "output_type": "execute_result"
    }
   ],
   "source": [
    "# load what you need\n",
    "import Traits_class as tc\n",
    "import json, sys\n",
    "import matplotlib.pyplot as plt\n",
    "import numpy as np\n",
    "from PIL import Image, ImageDraw, ImageFont\n",
    "from IPython.display import Image\n",
    "import importlib\n",
    "import skimage as ski\n",
    "importlib.reload(tc)"
   ]
  },
  {
   "cell_type": "code",
   "execution_count": 2,
   "id": "e620246b",
   "metadata": {},
   "outputs": [],
   "source": [
    "# load the test image, you can add more test image if you have bug related to specific images.\n",
    "segmented_file = '../Test_Data/INHS_FISH_000742_segmented.png'\n",
    "metadata_file = '../Test_Data/INHS_FISH_000742.json'"
   ]
  },
  {
   "cell_type": "code",
   "execution_count": 3,
   "id": "2289de98",
   "metadata": {},
   "outputs": [],
   "source": [
    "# Create the object segmented image create by the class during initialisation\n",
    "img_seg = tc.segmented_image(segmented_file)\n",
    "\n",
    "# oupput the variables create at initialization time\n",
    "measurement = img_seg.measurement\n",
    "landmark = img_seg.landmark\n",
    "presence_matrix = img_seg.presence_matrix\n",
    "img_landmark = img_seg.visualize_landmark()"
   ]
  },
  {
   "cell_type": "markdown",
   "id": "070251e3",
   "metadata": {},
   "source": [
    "## 2 - Explore the output\n",
    "\n",
    "    1- Presence Matrix\n",
    "    2- Landmark\n",
    "    3- Visualize landmark\n",
    "    4- measurement"
   ]
  },
  {
   "cell_type": "code",
   "execution_count": 4,
   "id": "ae9eb407",
   "metadata": {},
   "outputs": [
    {
     "data": {
      "text/plain": [
       "{'dorsal_fin': {'number': 1, 'percentage': 1.0},\n",
       " 'adipos_fin': {'number': 0, 'percentage': 0},\n",
       " 'caudal_fin': {'number': 1, 'percentage': 1.0},\n",
       " 'anal_fin': {'number': 1, 'percentage': 1.0},\n",
       " 'pelvic_fin': {'number': 1, 'percentage': 1.0},\n",
       " 'pectoral_fin': {'number': 1, 'percentage': 1.0},\n",
       " 'head': {'number': 1, 'percentage': 1.0},\n",
       " 'eye': {'number': 1, 'percentage': 1.0},\n",
       " 'caudal_fin_ray': {'number': 0, 'percentage': 0},\n",
       " 'alt_fin_ray': {'number': 0, 'percentage': 0},\n",
       " 'trunk': {'number': 2, 'percentage': 0.992120507069956}}"
      ]
     },
     "execution_count": 4,
     "metadata": {},
     "output_type": "execute_result"
    }
   ],
   "source": [
    "# presence dictionnary\n",
    "presence_matrix"
   ]
  },
  {
   "cell_type": "code",
   "execution_count": 5,
   "id": "b24d03d1",
   "metadata": {},
   "outputs": [
    {
     "data": {
      "text/plain": [
       "{'SL': 586.0034129593445,\n",
       " 'EA': 922,\n",
       " 'HAt': 8437.999999999995,\n",
       " 'HAp': 16034,\n",
       " 'HCL': 'WIP',\n",
       " 'ED': 34.262616074167774,\n",
       " 'HL': 151.64761785138597,\n",
       " 'HD': 158.3161394173064,\n",
       " 'pOD': 32.31098884280702}"
      ]
     },
     "execution_count": 5,
     "metadata": {},
     "output_type": "execute_result"
    }
   ],
   "source": [
    "# measurement dictionnary\n",
    "measurement"
   ]
  },
  {
   "cell_type": "code",
   "execution_count": 6,
   "id": "ffda5440",
   "metadata": {},
   "outputs": [
    {
     "data": {
      "text/plain": [
       "{'1': (148, 36),\n",
       " '2': (66, 148),\n",
       " '3': (21, 301),\n",
       " '4': (106, 566),\n",
       " '5': (112, 606),\n",
       " '6': (150, 622),\n",
       " '7': (203, 592),\n",
       " '8': (200, 562),\n",
       " '9': (242, 478),\n",
       " '10': (279, 305),\n",
       " '11': (217, 169),\n",
       " '12': (162, 187),\n",
       " '13': (224, 138),\n",
       " '14': (136, 66),\n",
       " '15': (134, 96)}"
      ]
     },
     "execution_count": 6,
     "metadata": {},
     "output_type": "execute_result"
    }
   ],
   "source": [
    "# landmark dictionnary\n",
    "landmark"
   ]
  },
  {
   "cell_type": "code",
   "execution_count": 7,
   "id": "8b7d1b1a",
   "metadata": {},
   "outputs": [
    {
     "data": {
      "image/png": "[encoded data removed]",
      "text/plain": [
       "<PIL.Image.Image image mode=RGB size=800x315>"
      ]
     },
     "execution_count": 7,
     "metadata": {},
     "output_type": "execute_result"
    }
   ],
   "source": [
    "# Visualize landmarks \n",
    "img_landmark"
   ]
  },
  {
   "cell_type": "markdown",
   "id": "100fd501",
   "metadata": {},
   "source": [
    "## 3- Explore the class works\n",
    "\n",
    "    1. Create the object Masks extraction : \n",
    "    During the creattion of the object everything will happened automatically. We will detail the different step that has happened under the hood. The image is imported from the input file, the image is then convert in to 11 masks corresponding to each traits then, we clean the masks and extract morphological info such as area, centroid, landmarks... then we calculate the different measurements we want.\n",
    "    2. Import the image and Masks extraction\n",
    "    3. Clean the mask\n",
    "    4.\n",
    "    5. "
   ]
  },
  {
   "cell_type": "markdown",
   "id": "493c71c2",
   "metadata": {},
   "source": [
    "### 1- Masks extraction \n",
    "\n",
    "    + Import the image : \n",
    "    + Function to convert the image.png in to a disctionnary with key = trait ('trunk', 'dorsal_fin'...)\n",
    "    masks = img_seg.mask\n",
    "    + Visualize the mask\n",
    "    \n"
   ]
  },
  {
   "cell_type": "code",
   "execution_count": 15,
   "id": "f9ce0bf1",
   "metadata": {},
   "outputs": [
    {
     "name": "stdout",
     "output_type": "stream",
     "text": [
      "This is the list of the trait ['dorsal_fin', 'adipos_fin', 'caudal_fin', 'anal_fin', 'pelvic_fin', 'pectoral_fin', 'head', 'eye', 'caudal_fin_ray', 'alt_fin_ray', 'trunk']\n"
     ]
    }
   ],
   "source": [
    "# Convert the image.png the dictionnary of mask\n",
    "# 1- use the variable \"mask\" which is created by the function \"img_seg.get_channels_mask()\"\n",
    "masks_dict = img_seg.mask\n",
    "\n",
    "print(\"This is the list of the trait :\",list(masks_dict.keys()))"
   ]
  },
  {
   "cell_type": "code",
   "execution_count": 17,
   "id": "fccc32b4",
   "metadata": {},
   "outputs": [
    {
     "data": {
      "text/plain": [
       "<matplotlib.image.AxesImage at 0x2adcca0444c0>"
      ]
     },
     "execution_count": 17,
     "metadata": {},
     "output_type": "execute_result"
    },
    {
     "data": {
      "image/png": "[encoded data removed]",
      "text/plain": [
       "<Figure size 432x288 with 1 Axes>"
      ]
     },
     "metadata": {
      "needs_background": "light"
     },
     "output_type": "display_data"
    }
   ],
   "source": [
    "# Visualize the mask for a specific trait\n",
    "trait_name = 'head'\n",
    "plt.imshow(masks_dict[trait_name])"
   ]
  },
  {
   "cell_type": "markdown",
   "id": "486170f3",
   "metadata": {},
   "source": [
    "### 2- Clean the mask and presence matrix\n",
    "\n",
    "Clean the mask involve:\n",
    " + Assessing the number of blob and decide what we keep and what we discard\n",
    " + Filling up hole in the blob\n",
    " + Create the presence matrix with Number of blob and the percentage of the biggest\n",
    " \n",
    "We will use the module skimage.measure.regionprops to manipulate the mask, find the individual blobs and  access properties of the \"region\" (blob) such as centroid, area, bbox... (reference : https://scikit-image.org/docs/dev/api/skimage.measure.html)"
   ]
  },
  {
   "cell_type": "code",
   "execution_count": null,
   "id": "b65c0131",
   "metadata": {},
   "outputs": [],
   "source": [
    "# Example of problem, the head trait mask as hole inisde correspond to the eye.\n",
    "# we want the whole head especially if we want to calculate area\n"
   ]
  },
  {
   "cell_type": "code",
   "execution_count": 23,
   "id": "b92fee15",
   "metadata": {},
   "outputs": [],
   "source": [
    "# Create a regionprop that has been cleaned\n",
    "# Remove hole \n",
    "# Keep only the big blob\n",
    "# regionprop_object has mutiple properties\n",
    "regionprop_head = img_seg.clean_trait_region(masks_dict['head'])"
   ]
  },
  {
   "cell_type": "code",
   "execution_count": 25,
   "id": "be28ead1",
   "metadata": {},
   "outputs": [
    {
     "name": "stdout",
     "output_type": "stream",
     "text": [
      "area : 16034\n",
      "centroid : (148.13259323936634, 119.70369215417239)\n"
     ]
    },
    {
     "data": {
      "text/plain": [
       "<matplotlib.image.AxesImage at 0x2adcca240b80>"
      ]
     },
     "execution_count": 25,
     "metadata": {},
     "output_type": "execute_result"
    },
    {
     "data": {
      "image/png": "[encoded data removed]",
      "text/plain": [
       "<Figure size 432x288 with 1 Axes>"
      ]
     },
     "metadata": {
      "needs_background": "light"
     },
     "output_type": "display_data"
    }
   ],
   "source": [
    "# Explore Regionprop_object properties\n",
    "# full list of properties is here https://scikit-image.org/docs/dev/api/skimage.measure.html#skimage.measure.regionprops\n",
    "print(\"area :\", regionprop_head.area)\n",
    "print(\"centroid :\", regionprop_head.centroid)\n",
    "# display the image of the new mask correponding to the clean trait mask\n",
    "plt.imshow(regionprop_head.image)"
   ]
  },
  {
   "cell_type": "code",
   "execution_count": 30,
   "id": "f5eea310",
   "metadata": {},
   "outputs": [
    {
     "data": {
      "text/plain": [
       "<matplotlib.image.AxesImage at 0x2adcca874610>"
      ]
     },
     "execution_count": 30,
     "metadata": {},
     "output_type": "execute_result"
    },
    {
     "data": {
      "image/png": "[encoded data removed]",
      "text/plain": [
       "<Figure size 432x288 with 1 Axes>"
      ]
     },
     "metadata": {
      "needs_background": "light"
     },
     "output_type": "display_data"
    }
   ],
   "source": [
    "# Example with other image with 2 pevilc fins\n",
    "# load the test image, you can add more test image if you have bug related to specific images.\n",
    "segmented_file = '../Test_Data/INHS_FISH_18609_segmented.png'\n",
    "img_seg_2 = tc.segmented_image(segmented_file)\n",
    "masks_dict_2 = img_seg_2.mask\n",
    "plt.imshow(masks_dict_2['pelvic_fin'])\n"
   ]
  },
  {
   "cell_type": "code",
   "execution_count": 31,
   "id": "6bb2a90a",
   "metadata": {},
   "outputs": [
    {
     "data": {
      "text/plain": [
       "<matplotlib.image.AxesImage at 0x2adcca7454c0>"
      ]
     },
     "execution_count": 31,
     "metadata": {},
     "output_type": "execute_result"
    },
    {
     "data": {
      "image/png": "[encoded data removed]",
      "text/plain": [
       "<Figure size 432x288 with 1 Axes>"
      ]
     },
     "metadata": {
      "needs_background": "light"
     },
     "output_type": "display_data"
    }
   ],
   "source": [
    "# During the clean step we remove the small blod and keep only the big one\n",
    "regionprop_pelvic = img_seg.clean_trait_region(masks_dict_2['pelvic_fin'])\n",
    "plt.imshow(regionprop_pelvic.image)"
   ]
  },
  {
   "cell_type": "code",
   "execution_count": 37,
   "id": "03bf6f15",
   "metadata": {},
   "outputs": [
    {
     "name": "stdout",
     "output_type": "stream",
     "text": [
      "{'dorsal_fin': {'number': 1, 'percentage': 1.0}, 'adipos_fin': {'number': 0, 'percentage': 0}, 'caudal_fin': {'number': 1, 'percentage': 1.0}, 'anal_fin': {'number': 1, 'percentage': 1.0}, 'pelvic_fin': {'number': 2, 'percentage': 0.9156065777226187}, 'pectoral_fin': {'number': 1, 'percentage': 1.0}, 'head': {'number': 1, 'percentage': 1.0}, 'eye': {'number': 1, 'percentage': 1.0}, 'caudal_fin_ray': {'number': 0, 'percentage': 0}, 'alt_fin_ray': {'number': 0, 'percentage': 0}, 'trunk': {'number': 2, 'percentage': 0.9499680160833409}}\n"
     ]
    }
   ],
   "source": [
    "# The presence matrix is created using the following function\n",
    "presence = img_seg_2.get_presence_matrix()\n",
    "# or directly access the variable\n",
    "presence = img_seg_2.presence_matrix\n",
    "print(presence)"
   ]
  },
  {
   "cell_type": "markdown",
   "id": "4f2d1e48",
   "metadata": {},
   "source": [
    "### 3- Collect properties and landmark\n",
    "\n",
    "In this section there are multiple small functions to calculate and extract what we want from the mask, using either direct calculation on the mask or using the regionprop_object. You can explore the class on the repo, there are plenty of small functions with some redundancy (with different way calculate the same value) and some that are not necessarly used and function in jupyter notebook (particular visualisation functions)\n",
    "\n",
    "List of funtion: \n",
    "\n",
    "    + img_seg.landmark_generic(trait_name) : return the most front_point , back_point, top_point, bottom_point, centroid, new_mask\n",
    "    + img_seg.landmark_5_7 : calculate specifically the landmark 5 7\n",
    "    + img_seg.all_landmark() : combine all the landmark in a dictionnary\n",
    "    + img_seg.visualize_landmark() : plot landmark on the original segmentation\n",
    "    \n",
    "Now play"
   ]
  },
  {
   "cell_type": "code",
   "execution_count": 48,
   "id": "b64417f6",
   "metadata": {},
   "outputs": [
    {
     "name": "stdout",
     "output_type": "stream",
     "text": [
      "most front point: (148, 36)\n",
      "most back point: (162, 187)\n"
     ]
    }
   ],
   "source": [
    "front_lm, back_lm, top_lm, bottom_lm, centroid, new_mask = img_seg.landmark_generic('head')\n",
    "print(\"most front point:\", front_lm)\n",
    "print(\"most back point:\", back_lm)"
   ]
  },
  {
   "cell_type": "code",
   "execution_count": 49,
   "id": "8208aa2c",
   "metadata": {},
   "outputs": [
    {
     "data": {
      "text/plain": [
       "{'1': (148, 36),\n",
       " '2': (66, 148),\n",
       " '3': (21, 301),\n",
       " '4': (106, 566),\n",
       " '5': (112, 606),\n",
       " '6': (150, 622),\n",
       " '7': (203, 592),\n",
       " '8': (200, 562),\n",
       " '9': (242, 478),\n",
       " '10': (279, 305),\n",
       " '11': (217, 169),\n",
       " '12': (162, 187),\n",
       " '13': (224, 138),\n",
       " '14': (136, 66),\n",
       " '15': (134, 96)}"
      ]
     },
     "execution_count": 49,
     "metadata": {},
     "output_type": "execute_result"
    }
   ],
   "source": [
    "# landmark dictionnary\n",
    "img_seg.all_landmark()"
   ]
  },
  {
   "cell_type": "code",
   "execution_count": 50,
   "id": "99b54f95",
   "metadata": {},
   "outputs": [
    {
     "data": {
      "image/png": "[encoded data removed]",
      "text/plain": [
       "<PIL.Image.Image image mode=RGB size=800x315>"
      ]
     },
     "execution_count": 50,
     "metadata": {},
     "output_type": "execute_result"
    }
   ],
   "source": [
    "# Visualize the landmark\n",
    "img_seg.visualize_landmark()"
   ]
  },
  {
   "cell_type": "markdown",
   "id": "bd018bc8",
   "metadata": {},
   "source": [
    "### 3- Measurement part\n",
    "\n",
    "Functions to calculate what we need to measure what we want!!!\n",
    "\n",
    "    + img_seg.get_distance(a,b) : measure distance between two point\n",
    "    + img_seg.measure_eye_area()\n",
    "    + img_seg.measure_head_area()\n",
    "    + img_seg.measure_eye_head_ratio()\n",
    "    + img_seg.calculate_triangle_area(point_1, Poit_2, point_3)\n",
    "    + img_seg.measure_eye_diameter()\n",
    "    + img_seg.all_measure() create the following dictionnary using the previous fucntions:\n",
    "        + measure['SL'] = self.get_distance(landmark['1'],landmark['6'])\n",
    "        + measure['EA'] = self.measure_eye_area()\n",
    "        + measure['HAt'] = self.calculate_triangle_area(landmark['1'],landmark['2'],landmark['13'])\n",
    "        + measure['HAp'] = self.measure_head_area()\n",
    "        + measure['HCL'] = \"WIP\"\n",
    "        + measure['ED'] = self.measure_eye_diameter()\n",
    "        + measure['HL'] = self.get_distance(landmark['1'],landmark['12'])\n",
    "        + measure['HD'] = self.get_distance(landmark['2'],landmark['13'])\n",
    "        + measure['pOD'] = self.get_distance(landmark['1'],landmark['14'])\n",
    "\n",
    "Now play!"
   ]
  },
  {
   "cell_type": "code",
   "execution_count": 51,
   "id": "f4bf0c4f",
   "metadata": {},
   "outputs": [
    {
     "data": {
      "text/plain": [
       "{'SL': 586.0034129593445,\n",
       " 'EA': 922,\n",
       " 'HAt': 8437.999999999995,\n",
       " 'HAp': 16034,\n",
       " 'HCL': 'WIP',\n",
       " 'ED': 34.262616074167774,\n",
       " 'HL': 151.64761785138597,\n",
       " 'HD': 158.3161394173064,\n",
       " 'pOD': 32.31098884280702}"
      ]
     },
     "execution_count": 51,
     "metadata": {},
     "output_type": "execute_result"
    }
   ],
   "source": [
    "img_seg.all_measure()"
   ]
  },
  {
   "cell_type": "markdown",
   "id": "e033c2f9",
   "metadata": {},
   "source": [
    "## Development Section\n",
    "\n",
    "This is where we make a mess!!!"
   ]
  },
  {
   "cell_type": "code",
   "execution_count": 25,
   "id": "add5f243",
   "metadata": {},
   "outputs": [
    {
     "data": {
      "text/plain": [
       "82724"
      ]
     },
     "execution_count": 25,
     "metadata": {},
     "output_type": "execute_result"
    },
    {
     "data": {
      "image/png": "[encoded data removed]",
      "text/plain": [
       "<Figure size 432x288 with 1 Axes>"
      ]
     },
     "metadata": {
      "needs_background": "light"
     },
     "output_type": "display_data"
    }
   ],
   "source": [
    "trunk_pro = img_seg.clean_trait_region(masks['trunk'])\n",
    "trunk_mask = trunk_pro.image\n",
    "pad_mask =np.pad(trunk_mask, ((1, 1), (1,1)), 'constant', constant_values=((0, 0),(0,0)))\n",
    "list_contour = ski.measure.find_contours(trunk_mask)\n",
    "erosion_trunk = ski.morphology.erosion(pad_mask)\n",
    "plt.imshow(pad_mask)\n",
    "np.all(pad_mask == erosion_trunk)\n",
    "sum(sum(pad_mask))"
   ]
  },
  {
   "cell_type": "code",
   "execution_count": null,
   "id": "982c2856",
   "metadata": {},
   "outputs": [],
   "source": []
  },
  {
   "cell_type": "code",
   "execution_count": 30,
   "id": "d452f502",
   "metadata": {},
   "outputs": [
    {
     "name": "stdout",
     "output_type": "stream",
     "text": [
      "(264, 474)\n",
      "(262, 472)\n",
      "1277.9453095790602\n",
      "1277.9453095790602\n"
     ]
    }
   ],
   "source": [
    "print(pad_mask.shape)\n",
    "print( trunk_mask.shape)\n",
    "print(ski.measure.perimeter(trunk_mask))\n",
    "print(ski.measure.perimeter(pad_mask))"
   ]
  },
  {
   "cell_type": "code",
   "execution_count": 43,
   "id": "5d3ae5d3",
   "metadata": {},
   "outputs": [
    {
     "name": "stdout",
     "output_type": "stream",
     "text": [
      "4\n",
      "1427\n",
      "(1495, 2)\n",
      "1128\n",
      "125136\n"
     ]
    }
   ],
   "source": [
    "contour_1 = ski.measure.find_contours(trunk_mask)\n",
    "print(len(contour_1))\n",
    "print(sum([a.shape[0] for a in contour_1]))\n",
    "\n",
    "contour_2 = ski.measure.find_contours(pad_mask)[0]\n",
    "print(contour_2.shape)\n",
    "\n",
    "contour_ = np.logical_and(pad_mask, np.logical_not(erosion_trunk))\n",
    "print(sum(sum(contour_)))\n",
    "contour_3 = ski.measure.find_contours(contour_)[0]\n",
    "print(sum([a.shape[0] for a in contour_]))"
   ]
  },
  {
   "cell_type": "code",
   "execution_count": 70,
   "id": "ee1e920f",
   "metadata": {},
   "outputs": [
    {
     "data": {
      "text/plain": [
       "[array([[262.5, 145. ],\n",
       "        [262.5, 144. ],\n",
       "        [262.5, 143. ],\n",
       "        ...,\n",
       "        [261.5, 146. ],\n",
       "        [262. , 145.5],\n",
       "        [262.5, 145. ]])]"
      ]
     },
     "execution_count": 70,
     "metadata": {},
     "output_type": "execute_result"
    },
    {
     "data": {
      "image/png": "[encoded data removed]",
      "text/plain": [
       "<Figure size 432x288 with 1 Axes>"
      ]
     },
     "metadata": {
      "needs_background": "light"
     },
     "output_type": "display_data"
    }
   ],
   "source": [
    "contour_ = np.logical_and(pad_mask, np.logical_not(erosion_trunk))\n",
    "plt.imshow(contour_)\n",
    "list_contour = ski.measure.find_contours(contour_)\n",
    "list_contour_2 = ski.measure.find_contours(pad_mask)\n",
    "list_contour_2\n"
   ]
  },
  {
   "cell_type": "code",
   "execution_count": 88,
   "id": "f5abdcdd",
   "metadata": {},
   "outputs": [
    {
     "data": {
      "text/plain": [
       "(1495, 2)"
      ]
     },
     "execution_count": 88,
     "metadata": {},
     "output_type": "execute_result"
    }
   ],
   "source": [
    "a =list_contour_2[0]\n",
    "a.shape"
   ]
  },
  {
   "cell_type": "code",
   "execution_count": 93,
   "id": "a7e0885b",
   "metadata": {},
   "outputs": [
    {
     "data": {
      "text/plain": [
       "1280.7737367037953"
      ]
     },
     "execution_count": 93,
     "metadata": {},
     "output_type": "execute_result"
    }
   ],
   "source": [
    "distance = lambda a,b: ((a[0] - b[0])**2 + (a[1] - b[1])**2)**0.5\n",
    "distance(list_contour_2[0][0,:],list_contour_2[0][1,:])\n",
    "a =list_contour_2[0]\n",
    "list_segment = [distance(a[i,:],a[i+1,:]) for i in range(a.shape[0]-1)]\n",
    "sum(list_segment)"
   ]
  },
  {
   "cell_type": "code",
   "execution_count": 17,
   "id": "84e350d9",
   "metadata": {},
   "outputs": [
    {
     "data": {
      "text/plain": [
       "<matplotlib.image.AxesImage at 0x2b3244b65040>"
      ]
     },
     "execution_count": 17,
     "metadata": {},
     "output_type": "execute_result"
    },
    {
     "data": {
      "image/png": "[encoded data removed]",
      "text/plain": [
       "<Figure size 432x288 with 1 Axes>"
      ]
     },
     "metadata": {
      "needs_background": "light"
     },
     "output_type": "display_data"
    }
   ],
   "source": [
    "plt.imshow(trunk_pro.image)"
   ]
  },
  {
   "cell_type": "code",
   "execution_count": 6,
   "id": "6ee0446b",
   "metadata": {},
   "outputs": [
    {
     "data": {
      "text/plain": [
       "<matplotlib.image.AxesImage at 0x2b1986bee670>"
      ]
     },
     "execution_count": 6,
     "metadata": {},
     "output_type": "execute_result"
    },
    {
     "data": {
      "image/png": "[encoded data removed]",
      "text/plain": [
       "<Figure size 432x288 with 1 Axes>"
      ]
     },
     "metadata": {
      "needs_background": "light"
     },
     "output_type": "display_data"
    }
   ],
   "source": [
    "caudal_fin = img_seg.mask['trunk']\n",
    "\n",
    "plt.imshow(caudal_fin)"
   ]
  },
  {
   "cell_type": "code",
   "execution_count": 13,
   "id": "cf78ee7e",
   "metadata": {},
   "outputs": [
    {
     "data": {
      "text/plain": [
       "<matplotlib.image.AxesImage at 0x2b16bc8d7d90>"
      ]
     },
     "execution_count": 13,
     "metadata": {},
     "output_type": "execute_result"
    },
    {
     "data": {
      "image/png": "[encoded data removed]",
      "text/plain": [
       "<Figure size 432x288 with 1 Axes>"
      ]
     },
     "metadata": {
      "needs_background": "light"
     },
     "output_type": "display_data"
    }
   ],
   "source": [
    "plt.imshow(img_seg.mask['caudal_fin'])"
   ]
  },
  {
   "cell_type": "code",
   "execution_count": 22,
   "id": "cb94b95f",
   "metadata": {},
   "outputs": [],
   "source": [
    "_,_,_,_,center_caudal,new_mask_caudal= img_seg.landmark_generic('caudal_fin')\n",
    "\n",
    "row_caudal = round(center_caudal[0])\n",
    "head_horil_line = new_mask_caudal[row_caudal, :]\n",
    "#head_length = np.count_nonzero( cleaned_mask[:,col_eye]== 1)\n",
    "\n"
   ]
  },
  {
   "cell_type": "code",
   "execution_count": 52,
   "id": "ed0dc8c6",
   "metadata": {},
   "outputs": [],
   "source": [
    "def landmark_5_7(img_seg):\n",
    "    '''\n",
    "    locate the landmark 5 and 7 of the caudal fin. \n",
    "    We split the caudal fin upper and lower part (horizontal line through the middle).\n",
    "    Then, in each case get the mot left point in the half of the caudal fin\n",
    "    '''\n",
    "    _,_,_,_,center_caudal,new_mask_caudal= img_seg.landmark_generic('caudal_fin')\n",
    "    mask_caudal_5 = new_mask_caudal.copy()\n",
    "    mask_caudal_7 = new_mask_caudal.copy()\n",
    "    row_caudal = round(center_caudal[0])\n",
    "\n",
    "    mask_caudal_5[row_caudal:,:] = 0\n",
    "    mask_caudal_7[:row_caudal,:] = 0\n",
    "        \n",
    "    lm_5_7=[]\n",
    "    for temp_mask in [mask_caudal_5,mask_caudal_7]:        \n",
    "        x,y = np.where(temp_mask)\n",
    "        y_front = y.min()\n",
    "        x_front = round(np.mean(np.where(temp_mask[:, y_front,])))\n",
    "        lm_5_7.append((int(x_front),int(y_front)))\n",
    "    return lm_5_7[0], lm_5_7[1]"
   ]
  },
  {
   "cell_type": "code",
   "execution_count": 53,
   "id": "04909223",
   "metadata": {},
   "outputs": [],
   "source": [
    "lm_5, lm_7 = landmark_5_7(img_seg)\n"
   ]
  },
  {
   "cell_type": "code",
   "execution_count": 54,
   "id": "f519df18",
   "metadata": {},
   "outputs": [
    {
     "data": {
      "image/png": "[encoded data removed]",
      "text/plain": [
       "<PIL.Image.Image image mode=RGB size=800x315>"
      ]
     },
     "execution_count": 54,
     "metadata": {},
     "output_type": "execute_result"
    }
   ],
   "source": [
    "img_arr = img_seg.img_arr\n",
    "def visualize_landmark(img_arr,coord):\n",
    "        text = '5'    \n",
    "        \n",
    "        img = Image.fromarray(img_arr)\n",
    "        img1 = ImageDraw.Draw(img)\n",
    "        \n",
    "        #\n",
    "        #fnt = ImageFont.truetype(\"Pillow/Tests/fonts/FreeMono.ttf\", 15)\n",
    "        fnt = ImageFont.load_default()\n",
    "\n",
    "        x,y = coord\n",
    "        xy = [(y-9,x-9),(y+9,x+9)]\n",
    "        img1.ellipse(xy, fill='gray', outline=None, width=1)\n",
    "                \n",
    "        img1.text((y-6, x-6), text, font=fnt, fill='black')\n",
    "            # Display the image created\n",
    "            \n",
    "        return img\n",
    "    \n",
    "visualize_landmark(img_arr,lm_7)"
   ]
  }
 ],
 "metadata": {
  "kernelspec": {
   "display_name": "Python (Morphology_env)",
   "language": "python",
   "name": "snakemake"
  },
  "language_info": {
   "codemirror_mode": {
    "name": "ipython",
    "version": 3
   },
   "file_extension": ".py",
   "mimetype": "text/x-python",
   "name": "python",
   "nbconvert_exporter": "python",
   "pygments_lexer": "ipython3",
   "version": "3.8.13"
  }
 },
 "nbformat": 4,
 "nbformat_minor": 5
}
