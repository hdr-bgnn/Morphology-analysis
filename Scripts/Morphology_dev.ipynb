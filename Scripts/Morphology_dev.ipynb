{
 "cells": [
  {
   "cell_type": "markdown",
   "id": "98a152cd",
   "metadata": {},
   "source": [
    "# Development for morphology trait extraction\n",
    "\n",
    "This notebook gives example and a platform to develop and visualize extraction on morphological traits\n",
    "The function framework is based on a class \"Traits_class\" define in the same folder.\n",
    "if you modify the \"Traits_class\" reload the module by running the first cell to see the modification appear in the notebook.\n",
    "\n",
    "**Study case:**\n",
    "\n",
    "\n"
   ]
  },
  {
   "cell_type": "code",
   "execution_count": 43,
   "id": "602dc370",
   "metadata": {},
   "outputs": [
    {
     "data": {
      "text/plain": [
       "<module 'Traits_class' from '/users/PAS2136/thibaulttabarin/BGNN_Snakemake/Scripts/Morphology/Traits_class.py'>"
      ]
     },
     "execution_count": 43,
     "metadata": {},
     "output_type": "execute_result"
    }
   ],
   "source": [
    "# load what you need\n",
    "import Traits_class as tc\n",
    "import json, sys\n",
    "import matplotlib.pyplot as plt\n",
    "import numpy as np\n",
    "from PIL import Image, ImageDraw, ImageFont\n",
    "import importlib\n",
    "importlib.reload(tc)"
   ]
  },
  {
   "cell_type": "code",
   "execution_count": 20,
   "id": "e620246b",
   "metadata": {},
   "outputs": [],
   "source": [
    "# load the test image, you can add more test image if you have bug related to specific images.\n",
    "segmented_file = 'test_images/INHS_FISH_000742_segmented.png'\n",
    "metadata_file = 'test_images/INHS_FISH_000742.json'"
   ]
  },
  {
   "cell_type": "code",
   "execution_count": 44,
   "id": "2289de98",
   "metadata": {},
   "outputs": [],
   "source": [
    "# Create the object segmented image create by the class during initialisation\n",
    "img_seg = tc.segmented_image(segmented_file)\n",
    "\n",
    "# variable create at initialization time\n",
    "measurement = img_seg.measurement\n",
    "landmark = img_seg.landmark\n",
    "presence_matrix = img_seg.presence_matrix\n",
    "img_landmark = img_seg.visualize_landmark()"
   ]
  },
  {
   "cell_type": "markdown",
   "id": "070251e3",
   "metadata": {},
   "source": [
    "## 2 - Explore the output\n",
    "\n",
    "    1- Presence Matrix\n",
    "    2- Landmark\n",
    "    3- Visualize landmark\n",
    "    4- measurement"
   ]
  },
  {
   "cell_type": "code",
   "execution_count": 21,
   "id": "ae9eb407",
   "metadata": {},
   "outputs": [
    {
     "data": {
      "text/plain": [
       "{'dorsal_fin': {'number': 1, 'percentage': 1.0},\n",
       " 'adipos_fin': {'number': 0, 'percentage': 0},\n",
       " 'caudal_fin': {'number': 1, 'percentage': 1.0},\n",
       " 'anal_fin': {'number': 1, 'percentage': 1.0},\n",
       " 'pelvic_fin': {'number': 1, 'percentage': 1.0},\n",
       " 'pectoral_fin': {'number': 1, 'percentage': 1.0},\n",
       " 'head': {'number': 1, 'percentage': 1.0},\n",
       " 'eye': {'number': 1, 'percentage': 1.0},\n",
       " 'caudal_fin_ray': {'number': 0, 'percentage': 0},\n",
       " 'alt_fin_ray': {'number': 0, 'percentage': 0},\n",
       " 'trunk': {'number': 2, 'percentage': 0.992120507069956}}"
      ]
     },
     "execution_count": 21,
     "metadata": {},
     "output_type": "execute_result"
    }
   ],
   "source": [
    "# presence dictionnary\n",
    "presence_matrix"
   ]
  },
  {
   "cell_type": "code",
   "execution_count": 45,
   "id": "ffda5440",
   "metadata": {},
   "outputs": [
    {
     "data": {
      "text/plain": [
       "{'1': (148, 36),\n",
       " '2': (66, 148),\n",
       " '3': (21, 301),\n",
       " '4': (106, 566),\n",
       " '5': (112, 606),\n",
       " '6': (150, 622),\n",
       " '7': (203, 592),\n",
       " '8': (200, 562),\n",
       " '9': (242, 478),\n",
       " '10': (279, 305),\n",
       " '11': (217, 169),\n",
       " '12': (162, 187),\n",
       " '13': (224, 138),\n",
       " '14': (136, 66),\n",
       " '15': (134, 96),\n",
       " '16': (115, 81),\n",
       " '17': (153, 81),\n",
       " '18': (135, 81)}"
      ]
     },
     "execution_count": 45,
     "metadata": {},
     "output_type": "execute_result"
    }
   ],
   "source": [
    "# landmark dictionnary\n",
    "landmark"
   ]
  },
  {
   "cell_type": "code",
   "execution_count": 29,
   "id": "60024ce2",
   "metadata": {},
   "outputs": [
    {
     "ename": "SyntaxError",
     "evalue": "invalid syntax (1558273965.py, line 1)",
     "output_type": "error",
     "traceback": [
      "\u001b[0;36m  Input \u001b[0;32mIn [29]\u001b[0;36m\u001b[0m\n\u001b[0;31m    list_order = [1:19]\u001b[0m\n\u001b[0m                   ^\u001b[0m\n\u001b[0;31mSyntaxError\u001b[0m\u001b[0;31m:\u001b[0m invalid syntax\n"
     ]
    }
   ],
   "source": [
    "list_order = [1:19]"
   ]
  },
  {
   "cell_type": "code",
   "execution_count": 46,
   "id": "8b7d1b1a",
   "metadata": {},
   "outputs": [
    {
     "data": {
      "image/png": "[encoded data removed]",
      "text/plain": [
       "<PIL.Image.Image image mode=RGB size=800x315>"
      ]
     },
     "execution_count": 46,
     "metadata": {},
     "output_type": "execute_result"
    }
   ],
   "source": [
    "# Visualize landmarks \n",
    "img_landmark"
   ]
  },
  {
   "cell_type": "code",
   "execution_count": null,
   "id": "f5eea310",
   "metadata": {},
   "outputs": [],
   "source": []
  },
  {
   "cell_type": "code",
   "execution_count": 18,
   "id": "6ee0446b",
   "metadata": {},
   "outputs": [
    {
     "data": {
      "text/plain": [
       "<matplotlib.image.AxesImage at 0x2b3df7a2f9a0>"
      ]
     },
     "execution_count": 18,
     "metadata": {},
     "output_type": "execute_result"
    },
    {
     "data": {
      "image/png": "[encoded data removed]",
      "text/plain": [
       "<Figure size 432x288 with 1 Axes>"
      ]
     },
     "metadata": {
      "needs_background": "light"
     },
     "output_type": "display_data"
    }
   ],
   "source": [
    "caudal_fin = img_seg.mask['caudal_fin']\n",
    "\n",
    "plt.imshow(caudal_fin)"
   ]
  },
  {
   "cell_type": "code",
   "execution_count": 13,
   "id": "cf78ee7e",
   "metadata": {},
   "outputs": [
    {
     "data": {
      "text/plain": [
       "<matplotlib.image.AxesImage at 0x2b16bc8d7d90>"
      ]
     },
     "execution_count": 13,
     "metadata": {},
     "output_type": "execute_result"
    },
    {
     "data": {
      "image/png": "[encoded data removed]",
      "text/plain": [
       "<Figure size 432x288 with 1 Axes>"
      ]
     },
     "metadata": {
      "needs_background": "light"
     },
     "output_type": "display_data"
    }
   ],
   "source": [
    "plt.imshow(img_seg.mask['caudal_fin'])"
   ]
  },
  {
   "cell_type": "code",
   "execution_count": 22,
   "id": "cb94b95f",
   "metadata": {},
   "outputs": [],
   "source": [
    "_,_,_,_,center_caudal,new_mask_caudal= img_seg.landmark_generic('caudal_fin')\n",
    "\n",
    "row_caudal = round(center_caudal[0])\n",
    "head_horil_line = new_mask_caudal[row_caudal, :]\n",
    "#head_length = np.count_nonzero( cleaned_mask[:,col_eye]== 1)\n",
    "\n"
   ]
  },
  {
   "cell_type": "code",
   "execution_count": 52,
   "id": "ed0dc8c6",
   "metadata": {},
   "outputs": [],
   "source": [
    "def landmark_5_7(img_seg):\n",
    "    '''\n",
    "    locate the landmark 5 and 7 of the caudal fin. \n",
    "    We split the caudal fin upper and lower part (horizontal line through the middle).\n",
    "    Then, in each case get the mot left point in the half of the caudal fin\n",
    "    '''\n",
    "    _,_,_,_,center_caudal,new_mask_caudal= img_seg.landmark_generic('caudal_fin')\n",
    "    mask_caudal_5 = new_mask_caudal.copy()\n",
    "    mask_caudal_7 = new_mask_caudal.copy()\n",
    "    row_caudal = round(center_caudal[0])\n",
    "\n",
    "    mask_caudal_5[row_caudal:,:] = 0\n",
    "    mask_caudal_7[:row_caudal,:] = 0\n",
    "        \n",
    "    lm_5_7=[]\n",
    "    for temp_mask in [mask_caudal_5,mask_caudal_7]:        \n",
    "        x,y = np.where(temp_mask)\n",
    "        y_front = y.min()\n",
    "        x_front = round(np.mean(np.where(temp_mask[:, y_front,])))\n",
    "        lm_5_7.append((int(x_front),int(y_front)))\n",
    "    return lm_5_7[0], lm_5_7[1]"
   ]
  },
  {
   "cell_type": "code",
   "execution_count": 53,
   "id": "04909223",
   "metadata": {},
   "outputs": [],
   "source": [
    "lm_5, lm_7 = landmark_5_7(img_seg)\n"
   ]
  },
  {
   "cell_type": "code",
   "execution_count": 54,
   "id": "f519df18",
   "metadata": {},
   "outputs": [
    {
     "data": {
      "image/png": "[encoded data removed]",
      "text/plain": [
       "<PIL.Image.Image image mode=RGB size=800x315>"
      ]
     },
     "execution_count": 54,
     "metadata": {},
     "output_type": "execute_result"
    }
   ],
   "source": [
    "img_arr = img_seg.img_arr\n",
    "def visualize_landmark(img_arr,coord):\n",
    "        text = '5'    \n",
    "        \n",
    "        img = Image.fromarray(img_arr)\n",
    "        img1 = ImageDraw.Draw(img)\n",
    "        \n",
    "        #\n",
    "        #fnt = ImageFont.truetype(\"Pillow/Tests/fonts/FreeMono.ttf\", 15)\n",
    "        fnt = ImageFont.load_default()\n",
    "\n",
    "        x,y = coord\n",
    "        xy = [(y-9,x-9),(y+9,x+9)]\n",
    "        img1.ellipse(xy, fill='gray', outline=None, width=1)\n",
    "                \n",
    "        img1.text((y-6, x-6), text, font=fnt, fill='black')\n",
    "            # Display the image created\n",
    "            \n",
    "        return img\n",
    "    \n",
    "visualize_landmark(img_arr,lm_7)"
   ]
  },
  {
   "cell_type": "code",
   "execution_count": null,
   "id": "fadc18fa",
   "metadata": {},
   "outputs": [],
   "source": []
  }
 ],
 "metadata": {
  "kernelspec": {
   "display_name": "Python (Morphology_env)",
   "language": "python",
   "name": "snakemake"
  },
  "language_info": {
   "codemirror_mode": {
    "name": "ipython",
    "version": 3
   },
   "file_extension": ".py",
   "mimetype": "text/x-python",
   "name": "python",
   "nbconvert_exporter": "python",
   "pygments_lexer": "ipython3",
   "version": "3.8.13"
  }
 },
 "nbformat": 4,
 "nbformat_minor": 5
}
