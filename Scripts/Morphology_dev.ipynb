{
 "cells": [
  {
   "cell_type": "markdown",
   "id": "98a152cd",
   "metadata": {},
   "source": [
    "# Development for morphology trait extraction\n",
    "\n",
    "This notebook gives examples and a platform to develop and visualize extraction on morphological traits\n",
    "The functions used are define in a class \"Traits_class\" that you can find in the same folder (Morphology-analysis/Scripts/Traits_class.py).\n",
    "If you want modify the \"Traits_class.py\" reload the module by running the first cell to see the modification appear in the notebook.\n",
    "\n",
    "**Study case:**\n",
    "To illustrate the morphology workflow and functionality, we are using the 2 images :\n",
    "\n",
    "    + Morphology-analysis/Test_Data/INHS_FISH_000742_segmented.png\n",
    "    + Morphology-analysis/Test_Data/INHS_FISH_18609_segmented.png\n",
    "    \n",
    "the Module Traits_class contains 3 classes :\n",
    "\n",
    "    + Segmented_images : create a object with load png image, isolate each channel and create Presence absence table\n",
    "    + Measure_morphology : child of Segmented_images. Calculate landmark and morphology measurement using isolated channels.\n",
    "    + Visualization_morphology : child of Measure_morphology. Vizualize the measures and object created in Measure_morphology.\n",
    "    "
   ]
  },
  {
   "cell_type": "code",
   "execution_count": 1,
   "id": "602dc370",
   "metadata": {},
   "outputs": [
    {
     "data": {
      "text/plain": [
       "<module 'Traits_class' from '/users/PAS2136/thibaulttabarin/Morphology-analysis/Scripts/Traits_class.py'>"
      ]
     },
     "execution_count": 1,
     "metadata": {},
     "output_type": "execute_result"
    }
   ],
   "source": [
    "# load what you need\n",
    "import Traits_class as tc\n",
    "import json, sys, os\n",
    "import matplotlib.pyplot as plt\n",
    "import numpy as np\n",
    "from skimage.measure import label, regionprops\n",
    "from PIL import Image, ImageDraw, ImageFont\n",
    "from IPython.display import Image\n",
    "import importlib\n",
    "import skimage as ski\n",
    "importlib.reload(tc)"
   ]
  },
  {
   "cell_type": "code",
   "execution_count": 2,
   "id": "e620246b",
   "metadata": {},
   "outputs": [],
   "source": [
    "# load the test image, you can add more test image if you have bug related to specific images.\n",
    "segmented_file = '../Test_Data/INHS_FISH_000742_segmented.png'\n",
    "#segmented_file = '../Test_Data/INHS_FISH_85194_segmented.png'\n",
    "metadata_file = '../Test_Data/INHS_FISH_000742.json'"
   ]
  },
  {
   "cell_type": "markdown",
   "id": "c9854e5d",
   "metadata": {},
   "source": [
    "## 1- Segmented_images Class\n",
    "\n"
   ]
  },
  {
   "cell_type": "code",
   "execution_count": 4,
   "id": "8a2dae3d",
   "metadata": {},
   "outputs": [],
   "source": [
    "# Create the object segmented image create by the class during initialisation\n",
    "img_seg = tc.Segmented_image(segmented_file)"
   ]
  },
  {
   "cell_type": "code",
   "execution_count": 7,
   "id": "b8ca94ff",
   "metadata": {},
   "outputs": [],
   "source": [
    "# output the variables create at initialization time\n",
    "file_name = img_seg.file\n",
    "base_name = img_seg.base_name\n",
    "align = img_seg.align # True or False do you want to align the fish pca with horizontal\n",
    "cutoff = img_seg.cutoff # minimum percent in area that a blob need to be a valide trait\n",
    "trait_color_dict = img_seg.trait_color_dict # Look up table trait->color is different from the default change this variable\n",
    "img_arr = img_seg.img_arr # original image\n",
    "masks = img_seg.mask # dictionnary with the 12 channels representing each a trait\n",
    "presence_matrix = img_seg.presence_matrix # dictionnary with presence table"
   ]
  },
  {
   "cell_type": "code",
   "execution_count": 8,
   "id": "20aa52b3",
   "metadata": {},
   "outputs": [
    {
     "name": "stdout",
     "output_type": "stream",
     "text": [
      "INHS_FISH_000742\n",
      "{'dorsal_fin': {'number': 1, 'percentage': 1.0}, 'adipos_fin': {'number': 0, 'percentage': 0}, 'caudal_fin': {'number': 1, 'percentage': 1.0}, 'anal_fin': {'number': 1, 'percentage': 1.0}, 'pelvic_fin': {'number': 1, 'percentage': 1.0}, 'pectoral_fin': {'number': 1, 'percentage': 1.0}, 'head': {'number': 1, 'percentage': 1.0}, 'eye': {'number': 1, 'percentage': 1.0}, 'caudal_fin_ray': {'number': 0, 'percentage': 0}, 'alt_fin_ray': {'number': 0, 'percentage': 0}, 'trunk': {'number': 2, 'percentage': 0.9921203180657}}\n"
     ]
    }
   ],
   "source": [
    "# visualize an output\n",
    "print(base_name)\n",
    "print(presence_matrix)"
   ]
  },
  {
   "cell_type": "markdown",
   "id": "268bc370",
   "metadata": {},
   "source": [
    "## 2- Measure_morphology"
   ]
  },
  {
   "cell_type": "code",
   "execution_count": 10,
   "id": "e7b2ef48",
   "metadata": {},
   "outputs": [],
   "source": [
    "measure_morpho = tc.Measure_morphology(segmented_file)"
   ]
  },
  {
   "cell_type": "code",
   "execution_count": 16,
   "id": "63274fa6",
   "metadata": {},
   "outputs": [],
   "source": [
    "# output generated after initialization\n",
    "# for more detail on the outputs description check docmentation in the repo https://github.com/hdr-bgnn/Morphology-analysis\n",
    "landmark = measure_morpho.landmark\n",
    "measurement_with_bbox = measure_morpho.measurement_with_bbox # measure using bounding box\n",
    "measurement_with_lm = measure_morpho.measurement_with_lm # using landmark\n",
    "measurement_with_area = measure_morpho.measurement_with_area"
   ]
  },
  {
   "cell_type": "code",
   "execution_count": 17,
   "id": "9272628d",
   "metadata": {},
   "outputs": [
    {
     "name": "stdout",
     "output_type": "stream",
     "text": [
      "landmark {'1': (154, 36), '2': (70, 148), '3': (23, 299), '4': (103, 566), '5': (110, 605), '6': (146, 622), '7': (200, 593), '8': (197, 562), '9': (241, 479), '10': (281, 307), '11': (221, 170), '12': (166, 187), '13': (228, 138), '14': (142, 66), '15': (139, 96), '16': (120, 80), '17': (158, 81), '18': (140, 81)}\n",
      "measurement using bbox {'SL_bbox': 587, 'HL_bbox': 152, 'ED_bbox': 31, 'pOD_bbox': 30, 'FA_pca': 0.0}\n"
     ]
    }
   ],
   "source": [
    "# Visualize output\n",
    "print(\"landmark\",landmark)\n",
    "print(\"measurement using bbox\",measurement_with_bbox)"
   ]
  },
  {
   "cell_type": "code",
   "execution_count": 29,
   "id": "813f0b5b",
   "metadata": {},
   "outputs": [
    {
     "data": {
      "image/png": "[encoded data removed]",
      "text/plain": [
       "<PIL.Image.Image image mode=RGB size=800x315>"
      ]
     },
     "execution_count": 29,
     "metadata": {},
     "output_type": "execute_result"
    }
   ],
   "source": [
    "# Visualize landmarks\n",
    "measure_morpho.visualize_landmark()\n"
   ]
  },
  {
   "cell_type": "markdown",
   "id": "6c3b0355",
   "metadata": {},
   "source": [
    "## 3- Visualization_morphology"
   ]
  },
  {
   "cell_type": "code",
   "execution_count": 30,
   "id": "a40e1fcd",
   "metadata": {},
   "outputs": [],
   "source": [
    "Vis_morpho = tc.Visualization_morphology(segmented_file)"
   ]
  },
  {
   "cell_type": "code",
   "execution_count": 31,
   "id": "07630896",
   "metadata": {},
   "outputs": [
    {
     "data": {
      "image/png": "[encoded data removed]",
      "text/plain": [
       "<PIL.Image.Image image mode=L size=800x315>"
      ]
     },
     "execution_count": 31,
     "metadata": {},
     "output_type": "execute_result"
    }
   ],
   "source": [
    "# Visualize the mask corresponding to the trunk\n",
    "Vis_morpho.visualize_trait(\"trunk\")"
   ]
  },
  {
   "cell_type": "code",
   "execution_count": 32,
   "id": "91179745",
   "metadata": {},
   "outputs": [
    {
     "data": {
      "image/png": "[encoded data removed]",
      "text/plain": [
       "<PIL.Image.Image image mode=RGB size=800x315>"
      ]
     },
     "execution_count": 32,
     "metadata": {},
     "output_type": "execute_result"
    }
   ],
   "source": [
    "# Visualize the bbox for a trait\n",
    "Vis_morpho.visualize_a_bbox(\"trunk\")"
   ]
  },
  {
   "cell_type": "code",
   "execution_count": 33,
   "id": "13072583",
   "metadata": {},
   "outputs": [
    {
     "data": {
      "image/png": "[encoded data removed]",
      "text/plain": [
       "<PIL.Image.Image image mode=RGB size=800x315>"
      ]
     },
     "execution_count": 33,
     "metadata": {},
     "output_type": "execute_result"
    }
   ],
   "source": [
    "# Visualize the bbox for multiple traits\n",
    "Vis_morpho.visualize_multi_bbox([\"trunk\", \"c\"])"
   ]
  },
  {
   "cell_type": "code",
   "execution_count": 19,
   "id": "ae9eb407",
   "metadata": {},
   "outputs": [
    {
     "data": {
      "text/plain": [
       "{'dorsal_fin': {'number': 1, 'percentage': 1.0},\n",
       " 'adipos_fin': {'number': 0, 'percentage': 0},\n",
       " 'caudal_fin': {'number': 1, 'percentage': 1.0},\n",
       " 'anal_fin': {'number': 1, 'percentage': 1.0},\n",
       " 'pelvic_fin': {'number': 1, 'percentage': 1.0},\n",
       " 'pectoral_fin': {'number': 1, 'percentage': 1.0},\n",
       " 'head': {'number': 1, 'percentage': 1.0},\n",
       " 'eye': {'number': 1, 'percentage': 1.0},\n",
       " 'caudal_fin_ray': {'number': 0, 'percentage': 0},\n",
       " 'alt_fin_ray': {'number': 0, 'percentage': 0},\n",
       " 'trunk': {'number': 2, 'percentage': 0.9921203180657}}"
      ]
     },
     "execution_count": 19,
     "metadata": {},
     "output_type": "execute_result"
    }
   ],
   "source": [
    "# presence dictionnary\n",
    "presence_matrix"
   ]
  },
  {
   "cell_type": "code",
   "execution_count": 22,
   "id": "b24d03d1",
   "metadata": {},
   "outputs": [
    {
     "data": {
      "text/plain": [
       "{'SL_bbox': 587, 'HL_bbox': 152, 'ED_bbox': 31, 'pOD_bbox': 30, 'FA_pca': 0.0}"
      ]
     },
     "execution_count": 22,
     "metadata": {},
     "output_type": "execute_result"
    }
   ],
   "source": [
    "# measurement dictionnary with measurement using bbox\n",
    "measurement_with_bbox"
   ]
  },
  {
   "cell_type": "code",
   "execution_count": 23,
   "id": "e5d892d3",
   "metadata": {},
   "outputs": [
    {
     "data": {
      "text/plain": [
       "{'SL_lm': 586.05,\n",
       " 'HL_lm': 151.48,\n",
       " 'ED_lm': 30.15,\n",
       " 'HH_lm': 100,\n",
       " 'HH_lm_v2': 99.0,\n",
       " 'pOD_lm': 32.31,\n",
       " 'HD_lm': 158.32,\n",
       " 'FA_lm': -0.78}"
      ]
     },
     "execution_count": 23,
     "metadata": {},
     "output_type": "execute_result"
    }
   ],
   "source": [
    "# measurement dictionnary with measurement using landmarks\n",
    "measurement_with_lm"
   ]
  },
  {
   "cell_type": "code",
   "execution_count": 24,
   "id": "fe183e51",
   "metadata": {},
   "outputs": [
    {
     "data": {
      "text/plain": [
       "{'EA_m': 921, 'HA_m': 16034}"
      ]
     },
     "execution_count": 24,
     "metadata": {},
     "output_type": "execute_result"
    }
   ],
   "source": [
    "# measurement dictionnary for area\n",
    "measurement_with_area"
   ]
  },
  {
   "cell_type": "code",
   "execution_count": 26,
   "id": "201ecfe1",
   "metadata": {},
   "outputs": [
    {
     "data": {
      "text/plain": [
       "{'base_name': 'INHS_FISH_000742',\n",
       " 'SL_bbox': 587,\n",
       " 'SL_lm': 586.05,\n",
       " 'HL_bbox': 152,\n",
       " 'HL_lm': 151.48,\n",
       " 'pOD_bbox': 30,\n",
       " 'pOD_lm': 32.31,\n",
       " 'ED_bbox': 31,\n",
       " 'ED_lm': 30.15,\n",
       " 'HH_lm': 100,\n",
       " 'EA_m': 921,\n",
       " 'HA_m': 16034,\n",
       " 'FA_pca': 0.0,\n",
       " 'FA_lm': -0.78}"
      ]
     },
     "execution_count": 26,
     "metadata": {},
     "output_type": "execute_result"
    }
   ],
   "source": [
    "# Combine the result in a single dictionnary\n",
    "measurement = {'base_name': base_name, **measurement_with_bbox, **measurement_with_lm, **measurement_with_area }\n",
    "list_measure= ['base_name','SL_bbox', 'SL_lm', 'HL_bbox', 'HL_lm', 'pOD_bbox', 'pOD_lm', 'ED_bbox', 'ED_lm', 'HH_lm', 'EA_m','HA_m','FA_pca', 'FA_lm']\n",
    "measurement = {k:measurement[k] for k in list_measure}\n",
    "measurement"
   ]
  },
  {
   "cell_type": "code",
   "execution_count": 27,
   "id": "8b7d1b1a",
   "metadata": {},
   "outputs": [
    {
     "ename": "NameError",
     "evalue": "name 'img_landmark' is not defined",
     "output_type": "error",
     "traceback": [
      "\u001b[0;31m---------------------------------------------------------------------------\u001b[0m",
      "\u001b[0;31mNameError\u001b[0m                                 Traceback (most recent call last)",
      "Input \u001b[0;32mIn [27]\u001b[0m, in \u001b[0;36m<cell line: 2>\u001b[0;34m()\u001b[0m\n\u001b[1;32m      1\u001b[0m \u001b[38;5;66;03m# Visualize landmarks \u001b[39;00m\n\u001b[0;32m----> 2\u001b[0m \u001b[43mimg_landmark\u001b[49m\n",
      "\u001b[0;31mNameError\u001b[0m: name 'img_landmark' is not defined"
     ]
    }
   ],
   "source": [
    "# Visualize landmarks \n",
    "img_landmark"
   ]
  },
  {
   "cell_type": "markdown",
   "id": "100fd501",
   "metadata": {},
   "source": [
    "#### 4- Explore how the class works\n",
    "\n",
    "    1. Create the object Masks extraction : \n",
    "    During the creattion of the object everything will happened automatically. We will detail the different step that has happened under the hood. The image is imported from the input file, the image is then convert in to 11 masks corresponding to each traits then, we clean the masks and extract morphological info such as area, centroid, landmarks... then we calculate the different measurements we want.\n",
    "    2. Import the image and Masks extraction\n",
    "    3. Clean the mask\n",
    "    4.\n",
    "    5. "
   ]
  },
  {
   "cell_type": "markdown",
   "id": "493c71c2",
   "metadata": {},
   "source": [
    "### 1- Masks extraction \n",
    "\n",
    "    + Import the image : \n",
    "    + Function to convert the image.png in to a disctionnary with key = trait ('trunk', 'dorsal_fin'...)\n",
    "    masks = img_seg.mask\n",
    "    + Visualize the mask\n",
    "    \n"
   ]
  },
  {
   "cell_type": "code",
   "execution_count": 34,
   "id": "f9ce0bf1",
   "metadata": {},
   "outputs": [
    {
     "name": "stdout",
     "output_type": "stream",
     "text": [
      "This is the list of the trait : ['dorsal_fin', 'adipos_fin', 'caudal_fin', 'anal_fin', 'pelvic_fin', 'pectoral_fin', 'head', 'eye', 'caudal_fin_ray', 'alt_fin_ray', 'trunk']\n"
     ]
    }
   ],
   "source": [
    "# Convert the image.png the dictionnary of mask\n",
    "# 1- use the variable \"mask\" which is created by the function \"img_seg.get_channels_mask()\"\n",
    "masks_dict = img_seg.mask\n",
    "\n",
    "print(\"This is the list of the trait :\",list(masks_dict.keys()))"
   ]
  },
  {
   "cell_type": "code",
   "execution_count": 35,
   "id": "fccc32b4",
   "metadata": {},
   "outputs": [
    {
     "data": {
      "text/plain": [
       "<matplotlib.image.AxesImage at 0x2b32574ca850>"
      ]
     },
     "execution_count": 35,
     "metadata": {},
     "output_type": "execute_result"
    },
    {
     "data": {
      "image/png": "[encoded data removed]",
      "text/plain": [
       "<Figure size 432x288 with 1 Axes>"
      ]
     },
     "metadata": {
      "needs_background": "light"
     },
     "output_type": "display_data"
    }
   ],
   "source": [
    "# Visualize the mask for a specific trait\n",
    "trait_name = 'trunk'\n",
    "plt.imshow(masks_dict[trait_name])"
   ]
  },
  {
   "cell_type": "markdown",
   "id": "486170f3",
   "metadata": {},
   "source": [
    "### 2- Clean the mask and presence matrix\n",
    "\n",
    "Clean the mask involve:\n",
    " + Assessing the number of blob and decide what we keep and what we discard\n",
    " + Filling up hole in the blob\n",
    " + Create the presence matrix with Number of blob and the percentage of the biggest\n",
    " \n",
    "We will use the module skimage.measure.regionprops to manipulate the mask, find the individual blobs and  access properties of the \"region\" (blob) such as centroid, area, bbox... (reference : https://scikit-image.org/docs/dev/api/skimage.measure.html)"
   ]
  },
  {
   "cell_type": "code",
   "execution_count": null,
   "id": "b65c0131",
   "metadata": {},
   "outputs": [],
   "source": [
    "# Example of problem, the head trait mask as hole inisde correspond to the eye.\n",
    "# we want the whole head especially if we want to calculate area\n"
   ]
  },
  {
   "cell_type": "code",
   "execution_count": 36,
   "id": "b92fee15",
   "metadata": {},
   "outputs": [],
   "source": [
    "# Create a regionprop that has been cleaned\n",
    "# Remove hole \n",
    "# Keep only the big blob\n",
    "# regionprop_object has mutiple properties\n",
    "regionprop_head = img_seg.clean_trait_region(masks_dict['head'])"
   ]
  },
  {
   "cell_type": "code",
   "execution_count": 37,
   "id": "be28ead1",
   "metadata": {},
   "outputs": [
    {
     "name": "stdout",
     "output_type": "stream",
     "text": [
      "area : 16034\n",
      "centroid : (152.78414618934764, 119.61232381189971)\n"
     ]
    },
    {
     "data": {
      "text/plain": [
       "<matplotlib.image.AxesImage at 0x2b32574f2e80>"
      ]
     },
     "execution_count": 37,
     "metadata": {},
     "output_type": "execute_result"
    },
    {
     "data": {
      "image/png": "[encoded data removed]",
      "text/plain": [
       "<Figure size 432x288 with 1 Axes>"
      ]
     },
     "metadata": {
      "needs_background": "light"
     },
     "output_type": "display_data"
    }
   ],
   "source": [
    "# Explore Regionprop_object properties\n",
    "# full list of properties is here https://scikit-image.org/docs/dev/api/skimage.measure.html#skimage.measure.regionprops\n",
    "print(\"area :\", regionprop_head.area)\n",
    "print(\"centroid :\", regionprop_head.centroid)\n",
    "# display the image of the new mask correponding to the clean trait mask\n",
    "plt.imshow(regionprop_head.image)"
   ]
  },
  {
   "cell_type": "markdown",
   "id": "e033c2f9",
   "metadata": {},
   "source": [
    "## Development Section\n",
    "\n",
    "This is where we make a mess!!!"
   ]
  },
  {
   "cell_type": "markdown",
   "id": "6ac59530",
   "metadata": {},
   "source": [
    "### Develop a tool to visualize the box around biggest blob for one specific trait"
   ]
  },
  {
   "cell_type": "code",
   "execution_count": 52,
   "id": "829041db",
   "metadata": {},
   "outputs": [
    {
     "data": {
      "image/png": "[encoded data removed]",
      "text/plain": [
       "<PIL.Image.Image image mode=RGB size=800x315>"
      ]
     },
     "execution_count": 52,
     "metadata": {},
     "output_type": "execute_result"
    }
   ],
   "source": [
    "# Develop a tool to visualize the box around biggest blob for one specific trait\n",
    "# Draw a bbox \n",
    "# importing image object from PIL\n",
    "from PIL import Image, ImageDraw\n",
    "\n",
    "mask_dict = img_seg.mask\n",
    "trunk_prop = img_seg.clean_trait_region(mask_dict['trunk'])\n",
    "trunk_bbox = trunk_prop.bbox\n",
    "\n",
    "top, left, bottom, right = trunk_bbox\n",
    "wide = bottom-top\n",
    "height = right-left\n",
    "shape = [(left, top), (right,bottom)]\n",
    "  \n",
    "# creating new Image object\n",
    "img_arr = img_seg.img_arr\n",
    "img = Image.fromarray(img_arr)\n",
    "img1 = ImageDraw.Draw(img)\n",
    "  \n",
    "# create rectangle image\n",
    "img1 = ImageDraw.Draw(img)  \n",
    "img1.rectangle(shape, outline =\"red\")\n",
    "img"
   ]
  },
  {
   "cell_type": "code",
   "execution_count": 50,
   "id": "178725e6",
   "metadata": {},
   "outputs": [
    {
     "data": {
      "image/png": "[encoded data removed]",
      "text/plain": [
       "<PIL.Image.Image image mode=RGB size=800x315>"
      ]
     },
     "execution_count": 50,
     "metadata": {},
     "output_type": "execute_result"
    }
   ],
   "source": [
    "Vis_morpho.visualize_a_bbox('head')"
   ]
  },
  {
   "cell_type": "markdown",
   "id": "855a8d1a",
   "metadata": {},
   "source": [
    "### Test/explore methods to get the trunk upper contour length from landmarks #2 to #5"
   ]
  },
  {
   "cell_type": "code",
   "execution_count": 54,
   "id": "add5f243",
   "metadata": {},
   "outputs": [
    {
     "data": {
      "text/plain": [
       "82722"
      ]
     },
     "execution_count": 54,
     "metadata": {},
     "output_type": "execute_result"
    }
   ],
   "source": [
    "trunk_mask = trunk_prop.image\n",
    "pad_mask =np.pad(trunk_mask, ((1, 1), (1,1)), 'constant', constant_values=((0, 0),(0,0)))\n",
    "list_contour = ski.measure.find_contours(trunk_mask)\n",
    "erosion_trunk = ski.morphology.erosion(pad_mask)\n",
    "#plt.imshow(pad_mask)\n",
    "np.all(pad_mask == erosion_trunk)\n",
    "sum(sum(pad_mask))"
   ]
  },
  {
   "cell_type": "code",
   "execution_count": null,
   "id": "982c2856",
   "metadata": {},
   "outputs": [],
   "source": []
  },
  {
   "cell_type": "code",
   "execution_count": 55,
   "id": "d452f502",
   "metadata": {},
   "outputs": [
    {
     "name": "stdout",
     "output_type": "stream",
     "text": [
      "(264, 476)\n",
      "(262, 474)\n",
      "1287.8448045156717\n",
      "1287.8448045156717\n"
     ]
    }
   ],
   "source": [
    "print(pad_mask.shape)\n",
    "print( trunk_mask.shape)\n",
    "print(ski.measure.perimeter(trunk_mask))\n",
    "print(ski.measure.perimeter(pad_mask))"
   ]
  },
  {
   "cell_type": "code",
   "execution_count": 56,
   "id": "5d3ae5d3",
   "metadata": {},
   "outputs": [
    {
     "name": "stdout",
     "output_type": "stream",
     "text": [
      "5\n",
      "1442\n",
      "(1509, 2)\n",
      "1135\n",
      "125664\n"
     ]
    }
   ],
   "source": [
    "contour_1 = ski.measure.find_contours(trunk_mask)\n",
    "print(len(contour_1))\n",
    "print(sum([a.shape[0] for a in contour_1]))\n",
    "\n",
    "contour_2 = ski.measure.find_contours(pad_mask)[0]\n",
    "print(contour_2.shape)\n",
    "\n",
    "contour_ = np.logical_and(pad_mask, np.logical_not(erosion_trunk))\n",
    "print(sum(sum(contour_)))\n",
    "contour_3 = ski.measure.find_contours(contour_)[0]\n",
    "print(sum([a.shape[0] for a in contour_]))"
   ]
  },
  {
   "cell_type": "code",
   "execution_count": 58,
   "id": "ee1e920f",
   "metadata": {},
   "outputs": [
    {
     "data": {
      "text/plain": [
       "[array([[262.5, 149. ],\n",
       "        [262.5, 148. ],\n",
       "        [262.5, 147. ],\n",
       "        ...,\n",
       "        [261.5, 150. ],\n",
       "        [262. , 149.5],\n",
       "        [262.5, 149. ]])]"
      ]
     },
     "execution_count": 58,
     "metadata": {},
     "output_type": "execute_result"
    },
    {
     "data": {
      "image/png": "[encoded data removed]",
      "text/plain": [
       "<Figure size 432x288 with 1 Axes>"
      ]
     },
     "metadata": {
      "needs_background": "light"
     },
     "output_type": "display_data"
    }
   ],
   "source": [
    "contour_ = np.logical_and(pad_mask, np.logical_not(erosion_trunk))\n",
    "plt.imshow(contour_)\n",
    "list_contour = ski.measure.find_contours(contour_)\n",
    "list_contour_2 = ski.measure.find_contours(pad_mask)\n",
    "list_contour_2\n"
   ]
  },
  {
   "cell_type": "code",
   "execution_count": 59,
   "id": "f5abdcdd",
   "metadata": {},
   "outputs": [
    {
     "data": {
      "text/plain": [
       "(1509, 2)"
      ]
     },
     "execution_count": 59,
     "metadata": {},
     "output_type": "execute_result"
    }
   ],
   "source": [
    "a =list_contour_2[0]\n",
    "a.shape"
   ]
  },
  {
   "cell_type": "code",
   "execution_count": 60,
   "id": "a7e0885b",
   "metadata": {},
   "outputs": [
    {
     "data": {
      "text/plain": [
       "1290.673231640406"
      ]
     },
     "execution_count": 60,
     "metadata": {},
     "output_type": "execute_result"
    }
   ],
   "source": [
    "distance = lambda a,b: ((a[0] - b[0])**2 + (a[1] - b[1])**2)**0.5\n",
    "distance(list_contour_2[0][0,:],list_contour_2[0][1,:])\n",
    "a =list_contour_2[0]\n",
    "list_segment = [distance(a[i,:],a[i+1,:]) for i in range(a.shape[0]-1)]\n",
    "sum(list_segment)"
   ]
  },
  {
   "cell_type": "code",
   "execution_count": 62,
   "id": "84e350d9",
   "metadata": {},
   "outputs": [
    {
     "data": {
      "text/plain": [
       "<matplotlib.image.AxesImage at 0x2b325827aa00>"
      ]
     },
     "execution_count": 62,
     "metadata": {},
     "output_type": "execute_result"
    },
    {
     "data": {
      "image/png": "[encoded data removed]",
      "text/plain": [
       "<Figure size 432x288 with 1 Axes>"
      ]
     },
     "metadata": {
      "needs_background": "light"
     },
     "output_type": "display_data"
    }
   ],
   "source": [
    "plt.imshow(trunk_prop.image)"
   ]
  },
  {
   "cell_type": "code",
   "execution_count": 63,
   "id": "6ee0446b",
   "metadata": {},
   "outputs": [
    {
     "data": {
      "text/plain": [
       "<matplotlib.image.AxesImage at 0x2b325830cee0>"
      ]
     },
     "execution_count": 63,
     "metadata": {},
     "output_type": "execute_result"
    },
    {
     "data": {
      "image/png": "[encoded data removed]",
      "text/plain": [
       "<Figure size 432x288 with 1 Axes>"
      ]
     },
     "metadata": {
      "needs_background": "light"
     },
     "output_type": "display_data"
    }
   ],
   "source": [
    "caudal_fin = img_seg.mask['trunk']\n",
    "\n",
    "plt.imshow(caudal_fin)"
   ]
  },
  {
   "cell_type": "markdown",
   "id": "f01b431c",
   "metadata": {},
   "source": [
    "### Develop a tool to get landmark #5 and #7 on the caudal fin"
   ]
  },
  {
   "cell_type": "code",
   "execution_count": 64,
   "id": "cf78ee7e",
   "metadata": {},
   "outputs": [
    {
     "data": {
      "text/plain": [
       "<matplotlib.image.AxesImage at 0x2b32583ba2e0>"
      ]
     },
     "execution_count": 64,
     "metadata": {},
     "output_type": "execute_result"
    },
    {
     "data": {
      "image/png": "[encoded data removed]",
      "text/plain": [
       "<Figure size 432x288 with 1 Axes>"
      ]
     },
     "metadata": {
      "needs_background": "light"
     },
     "output_type": "display_data"
    }
   ],
   "source": [
    "plt.imshow(img_seg.mask['caudal_fin'])"
   ]
  },
  {
   "cell_type": "code",
   "execution_count": 66,
   "id": "cb94b95f",
   "metadata": {},
   "outputs": [],
   "source": [
    "_,_,_,_,center_caudal,new_mask_caudal= measure_morpho.landmark_generic('caudal_fin')\n",
    "\n",
    "row_caudal = round(center_caudal[0])\n",
    "head_horil_line = new_mask_caudal[row_caudal, :]\n",
    "#head_length = np.count_nonzero( cleaned_mask[:,col_eye]== 1)\n",
    "\n"
   ]
  },
  {
   "cell_type": "code",
   "execution_count": 69,
   "id": "ed0dc8c6",
   "metadata": {},
   "outputs": [],
   "source": [
    "def landmark_5_7(img_seg):\n",
    "    '''\n",
    "    locate the landmark 5 and 7 of the caudal fin. \n",
    "    We split the caudal fin upper and lower part (horizontal line through the middle).\n",
    "    Then, in each case get the mot left point in the half of the caudal fin\n",
    "    '''\n",
    "    _,_,_,_,center_caudal,new_mask_caudal= measure_morpho.landmark_generic('caudal_fin')\n",
    "    mask_caudal_5 = new_mask_caudal.copy()\n",
    "    mask_caudal_7 = new_mask_caudal.copy()\n",
    "    row_caudal = round(center_caudal[0])\n",
    "\n",
    "    mask_caudal_5[row_caudal:,:] = 0\n",
    "    mask_caudal_7[:row_caudal,:] = 0\n",
    "        \n",
    "    lm_5_7=[]\n",
    "    for temp_mask in [mask_caudal_5,mask_caudal_7]:        \n",
    "        x,y = np.where(temp_mask)\n",
    "        y_front = y.min()\n",
    "        x_front = round(np.mean(np.where(temp_mask[:, y_front,])))\n",
    "        lm_5_7.append((int(x_front),int(y_front)))\n",
    "    return lm_5_7[0], lm_5_7[1]"
   ]
  },
  {
   "cell_type": "code",
   "execution_count": 70,
   "id": "04909223",
   "metadata": {},
   "outputs": [],
   "source": [
    "lm_5, lm_7 = landmark_5_7(img_seg)"
   ]
  },
  {
   "cell_type": "code",
   "execution_count": 74,
   "id": "f519df18",
   "metadata": {},
   "outputs": [
    {
     "data": {
      "image/png": "[encoded data removed]",
      "text/plain": [
       "<PIL.Image.Image image mode=RGB size=800x315>"
      ]
     },
     "execution_count": 74,
     "metadata": {},
     "output_type": "execute_result"
    }
   ],
   "source": [
    "# Function\n",
    "from PIL import Image\n",
    "def visualize_landmark(img_arr,coord):\n",
    "    '''function to visualize one landmark define by coord''' \n",
    "    \n",
    "    text = '5'    \n",
    "        \n",
    "    img = Image.fromarray(img_arr)\n",
    "    img1 = ImageDraw.Draw(img)\n",
    "        \n",
    "    #\n",
    "    #fnt = ImageFont.truetype(\"Pillow/Tests/fonts/FreeMono.ttf\", 15)\n",
    "    fnt = ImageFont.load_default()\n",
    "\n",
    "    x,y = coord\n",
    "    xy = [(y-9,x-9),(y+9,x+9)]\n",
    "    img1.ellipse(xy, fill='gray', outline=None, width=1)\n",
    "                \n",
    "    img1.text((y-6, x-6), text, font=fnt, fill='black')\n",
    "    # Display the image created\n",
    "            \n",
    "    return img\n",
    "    \n",
    "    \n",
    "img_arr = img_seg.img_arr    \n",
    "visualize_landmark(img_arr,lm_7)"
   ]
  }
 ],
 "metadata": {
  "kernelspec": {
   "display_name": "Python (Morphology_env)",
   "language": "python",
   "name": "snakemake"
  },
  "language_info": {
   "codemirror_mode": {
    "name": "ipython",
    "version": 3
   },
   "file_extension": ".py",
   "mimetype": "text/x-python",
   "name": "python",
   "nbconvert_exporter": "python",
   "pygments_lexer": "ipython3",
   "version": "3.8.13"
  }
 },
 "nbformat": 4,
 "nbformat_minor": 5
}
